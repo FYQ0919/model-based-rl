{
 "cells": [
  {
   "cell_type": "code",
   "execution_count": 1,
   "metadata": {},
   "outputs": [],
   "source": [
    "import os, torch, ray"
   ]
  },
  {
   "cell_type": "code",
   "execution_count": 2,
   "metadata": {},
   "outputs": [],
   "source": [
    "@ray.remote(num_gpus=1)\n",
    "def f():\n",
    "    print(torch.cuda.is_available())\n",
    "    print(os.environ.get(\"CUDA_VISIBLE_DEVICES\"))\n",
    "    print(torch.cuda.device_count())\n",
    "    print(ray.get_gpu_ids())\n",
    "\n",
    "@ray.remote(num_gpus=1)\n",
    "class Counter(object):\n",
    "    def __init__(self):\n",
    "        print(torch.cuda.is_available())\n",
    "        print(os.environ.get(\"CUDA_VISIBLE_DEVICES\"))\n",
    "        print(torch.cuda.device_count())\n",
    "        print(ray.get_gpu_ids())\n",
    "\n",
    "    def increment(self):\n",
    "        print(torch.cuda.is_available())\n",
    "        print(os.environ.get(\"CUDA_VISIBLE_DEVICES\"))\n",
    "        print(torch.cuda.device_count())\n",
    "        print(ray.get_gpu_ids())\n"
   ]
  },
  {
   "cell_type": "code",
   "execution_count": 3,
   "metadata": {},
   "outputs": [
    {
     "name": "stderr",
     "output_type": "stream",
     "text": [
      "2022-06-06 11:04:32,898\tINFO services.py:1456 -- View the Ray dashboard at \u001b[1m\u001b[32mhttp://127.0.0.1:8265\u001b[39m\u001b[22m\n"
     ]
    },
    {
     "data": {
      "text/plain": [
       "RayContext(dashboard_url='127.0.0.1:8265', python_version='3.8.13', ray_version='1.12.1', ray_commit='4863e33856b54ccf8add5cbe75e41558850a1b75', address_info={'node_ip_address': '192.168.2.51', 'raylet_ip_address': '192.168.2.51', 'redis_address': None, 'object_store_address': '/tmp/ray/session_2022-06-06_11-04-30_734019_3703148/sockets/plasma_store', 'raylet_socket_name': '/tmp/ray/session_2022-06-06_11-04-30_734019_3703148/sockets/raylet', 'webui_url': '127.0.0.1:8265', 'session_dir': '/tmp/ray/session_2022-06-06_11-04-30_734019_3703148', 'metrics_export_port': 58959, 'gcs_address': '192.168.2.51:55604', 'address': '192.168.2.51:55604', 'node_id': 'df3e18bab2c17e617c8681ba9562076a759d9c9130f97f89acda0041'})"
      ]
     },
     "execution_count": 3,
     "metadata": {},
     "output_type": "execute_result"
    }
   ],
   "source": [
    "ray.init(num_gpus=4)"
   ]
  },
  {
   "cell_type": "code",
   "execution_count": 4,
   "metadata": {},
   "outputs": [
    {
     "name": "stdout",
     "output_type": "stream",
     "text": [
      "\u001b[2m\u001b[36m(Counter pid=3704180)\u001b[0m True\n",
      "\u001b[2m\u001b[36m(Counter pid=3704180)\u001b[0m 0\n",
      "\u001b[2m\u001b[36m(Counter pid=3704180)\u001b[0m 1\n",
      "\u001b[2m\u001b[36m(Counter pid=3704180)\u001b[0m [0]\n"
     ]
    }
   ],
   "source": [
    "counter = Counter.remote()"
   ]
  },
  {
   "cell_type": "code",
   "execution_count": null,
   "metadata": {},
   "outputs": [],
   "source": []
  },
  {
   "cell_type": "code",
   "execution_count": null,
   "metadata": {},
   "outputs": [],
   "source": []
  }
 ],
 "metadata": {
  "interpreter": {
   "hash": "477204dd88e3a1f360902a141286616bfe6fd2653521eed9ec255bc2e2ca7171"
  },
  "kernelspec": {
   "display_name": "Python 3.8.13 ('curling')",
   "language": "python",
   "name": "python3"
  },
  "language_info": {
   "codemirror_mode": {
    "name": "ipython",
    "version": 3
   },
   "file_extension": ".py",
   "mimetype": "text/x-python",
   "name": "python",
   "nbconvert_exporter": "python",
   "pygments_lexer": "ipython3",
   "version": "3.8.13"
  },
  "orig_nbformat": 4
 },
 "nbformat": 4,
 "nbformat_minor": 2
}
